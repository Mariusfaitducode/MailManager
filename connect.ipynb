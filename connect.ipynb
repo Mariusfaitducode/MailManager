{
 "cells": [
  {
   "cell_type": "markdown",
   "metadata": {},
   "source": [
    "### Import"
   ]
  },
  {
   "cell_type": "code",
   "execution_count": 38,
   "metadata": {},
   "outputs": [],
   "source": [
    "\n",
    "import imaplib\n",
    "import email\n",
    "import configparser"
   ]
  },
  {
   "cell_type": "markdown",
   "metadata": {},
   "source": [
    "### Connexion"
   ]
  },
  {
   "cell_type": "code",
   "execution_count": 39,
   "metadata": {},
   "outputs": [
    {
     "data": {
      "text/plain": [
       "('OK', [b'mariusmdm123@gmail.com authenticated (Success)'])"
      ]
     },
     "execution_count": 39,
     "metadata": {},
     "output_type": "execute_result"
    }
   ],
   "source": [
    "#TODO: Securize password\n",
    "\n",
    "config = configparser.ConfigParser()\n",
    "config.read('config.ini')\n",
    "\n",
    "host = 'imap.gmail.com'\n",
    "user = config['DEFAULT']['Email']\n",
    "password = config['DEFAULT']['Password']\n",
    "\n",
    "mail = imaplib.IMAP4_SSL(host)\n",
    "mail.login(user, password)"
   ]
  },
  {
   "cell_type": "markdown",
   "metadata": {},
   "source": [
    "### Lecture emails"
   ]
  },
  {
   "cell_type": "code",
   "execution_count": 40,
   "metadata": {},
   "outputs": [],
   "source": [
    "mail.select('inbox')\n",
    "\n",
    "# Critère de recherche, par exemple tous les messages\n",
    "status, messages = mail.search(None, 'ALL')\n",
    "\n",
    "messages = messages[0].split()\n"
   ]
  },
  {
   "cell_type": "code",
   "execution_count": 42,
   "metadata": {},
   "outputs": [
    {
     "name": "stdout",
     "output_type": "stream",
     "text": [
      "fr@e.edreams.com 7\n",
      "jobs-listings@linkedin.com 13\n",
      "jobalerts-noreply@linkedin.com 90\n",
      "hello@gamma.app 6\n",
      "team@mail.perplexity.ai 1\n",
      "boulanger@accueil.boulanger.com 5\n",
      "stephetfab@permisfamily.com 16\n",
      "buyer-notice-ae00@mail.aliexpress.com 6\n",
      "adidas@fr-news.adidas.com 8\n",
      "hello@blablacar.com 2\n",
      "service@paypal.fr 4\n",
      "booking@blablacar.com 1\n",
      "hello@community.blablacar.com 3\n",
      "noreply@news.eu.dcshoes.com 19\n",
      "newsletter@news.woodbrass.com 5\n",
      "nintendo@mail.nintendo-europe.com 5\n",
      "KurierDPD7@dpd.com.pl 1\n",
      "noreply@promo.ra.co 4\n",
      "info@mail.sncfconnect.com 4\n",
      "noreply@connect.sncf 6\n",
      "messages-noreply@linkedin.com 16\n",
      "notifications-noreply@linkedin.com 14\n",
      "fra@e.opodo.com 9\n",
      "info@crm.samsung.fr 9\n",
      "ubereats@uber.com 12\n",
      "team@hello.babbel.com 1\n",
      "ne-pas-repondre@enercoop.org 2\n",
      "newsletter@residentadvisor.net 8\n",
      "no-reply@announcements.soundcloud.com 4\n",
      "uber@uber.com 10\n",
      "info@colorslabel.com 1\n",
      "adidas@fr-info.adidas.com 1\n",
      "no-reply@is.email.fr.nextdoor.com 3\n",
      "noreply@dice.fm 3\n",
      "jobs-noreply@linkedin.com 2\n",
      "admin@babelio.com 6\n",
      "hello@mail.toogoodtogo.fr 5\n",
      "update@email.flixbus.com 1\n",
      "ne-pas-repondre@app.assurance-maladie.fr 8\n",
      "ne-pas-repondre@notification.franceconnect.gouv.fr 3\n",
      "noreply@inpi.fr 3\n",
      "predict@information.dpd.fr 2\n",
      "ne_pas_repondre@secu-independants.fr 2\n",
      "hello@chess.com 3\n",
      "buyer-notice-ae01@mail.aliexpress.com 13\n",
      "ne-pas-repondre@site.service-civique.gouv.fr 4\n",
      "cloud@directmail.creality.com 2\n",
      "mailer-daemon@googlemail.com 6\n",
      "no-reply@spotify.com 4\n",
      "kaggle-noreply@google.com 1\n",
      "support@news.lydia-app.com 2\n",
      "noreply@email.openai.com 1\n",
      "no-reply@thingiverse.com 2\n",
      "hi@sourcegraph.com 2\n",
      "info@polyfab3d.fr 6\n",
      "no-reply@accounts.google.com 7\n",
      "no-reply@email.hostinger.com 2\n",
      "noreply@uber.com 6\n",
      "info@art3f.com 3\n",
      "avisage-ne-pas-repondre@chronopost.fr 1\n",
      "noreply@kaggle.com 2\n",
      "donotreply@easyjet.com 1\n",
      "discover@airbnb.com 3\n",
      "chronopost@network1.pickup.fr 1\n",
      "inspiration@mp1.tripadvisor.com 2\n",
      "info@fnac.com 4\n",
      "enquetesatisfaction@chronopost.fr 1\n",
      "feedback@feedback.avis-verifies.com 2\n",
      "promotion@aliexpress.com 1\n",
      "marius.diguat--mateus@utbm.fr 1\n",
      "invitations@linkedin.com 1\n",
      "actu@actu.mytf1.fr 6\n",
      "lenovo@ecomm.lenovo.com 1\n",
      "NBA@email.nba.com 10\n",
      "tinder@mail.tinder.com 2\n",
      "email.campaign@sg.booking.com 3\n",
      "noreply-maps-timeline@google.com 1\n",
      "veuillez-ne-pas-repondre@urssaf.fr 1\n",
      "bookings@info.easyjet.com 1\n",
      "linkedin@e.linkedin.com 4\n",
      "assurance-maladie@info.ameli.fr 1\n",
      "newsletter@national.lescrous.fr 1\n",
      "awards@mp1.tripadvisor.com 2\n",
      "noreply@creditmutuel.fr 2\n",
      "noreply@autodesk.com 2\n",
      "francetv@nl.francetv.fr 1\n",
      "reply@rs.email.fr.nextdoor.com 3\n",
      "yasminesstafa@gmail.com 4\n",
      "buyer-notice-ae02@mail.aliexpress.com 13\n",
      "CAF@mailer1.ext.caf.fr 1\n",
      "ingrid.lheureux@assurance-maladie.fr 1\n",
      "noreply@github.com 2\n",
      "hello@notify.openclassrooms.com 1\n",
      "Marius.Diguat-Mateus@sonceboz.com 2\n",
      "no-reply@bfc.lescrous.fr 1\n",
      "savings@mp1.tripadvisor.com 1\n",
      "crous-bfc@legavote.fr 1\n",
      "contact@community.blablalines.com 1\n",
      "security-noreply@linkedin.com 1\n",
      "benjamin@lemoulinnature.fr 1\n",
      "mariusmdm123@gmail.com 1\n",
      "ne-pas-repondre@declaration.urssaf.fr 1\n",
      "hey@gptinf.com 1\n",
      "accounts@firefox.com 5\n",
      "nobody@mozilla.org 2\n",
      "mongodb-account@mongodb.com 1\n",
      "cloud-manager-support@mongodb.com 1\n",
      "mongodbteam@mail1.mongodb.com 1\n",
      "mongodb-atlas@mongodb.com 1\n"
     ]
    }
   ],
   "source": [
    "list = {}\n",
    "\n",
    "for num in messages[-500:]: # Les 10 derniers messages\n",
    "\n",
    "    status, data = mail.fetch(num, '(RFC822)')\n",
    "    raw_email = data[0][1]\n",
    "\n",
    "    email_message = email.message_from_bytes(raw_email)\n",
    "    \n",
    "    sender = email.utils.parseaddr(email_message['From'])\n",
    "\n",
    "    # print(sender)\n",
    "    sender = sender[1]\n",
    "\n",
    "    if sender not in list:\n",
    "        list[sender] = []\n",
    "\n",
    "    list[sender].append(num)\n",
    "    \n",
    "\n",
    "for sender in list:\n",
    "    print(sender, len(list[sender]))"
   ]
  },
  {
   "cell_type": "markdown",
   "metadata": {},
   "source": [
    "### Déconnexion"
   ]
  },
  {
   "cell_type": "code",
   "execution_count": null,
   "metadata": {},
   "outputs": [],
   "source": [
    "mail.close()\n",
    "mail.logout()"
   ]
  }
 ],
 "metadata": {
  "kernelspec": {
   "display_name": "Python 3",
   "language": "python",
   "name": "python3"
  },
  "language_info": {
   "codemirror_mode": {
    "name": "ipython",
    "version": 3
   },
   "file_extension": ".py",
   "mimetype": "text/x-python",
   "name": "python",
   "nbconvert_exporter": "python",
   "pygments_lexer": "ipython3",
   "version": "3.11.3"
  }
 },
 "nbformat": 4,
 "nbformat_minor": 2
}
